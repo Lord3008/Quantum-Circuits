{
  "nbformat": 4,
  "nbformat_minor": 0,
  "metadata": {
    "colab": {
      "provenance": [],
      "authorship_tag": "ABX9TyOhZ8lUSARMYGE6tw9Qc0tZ",
      "include_colab_link": true
    },
    "kernelspec": {
      "name": "python3",
      "display_name": "Python 3"
    },
    "language_info": {
      "name": "python"
    }
  },
  "cells": [
    {
      "cell_type": "markdown",
      "metadata": {
        "id": "view-in-github",
        "colab_type": "text"
      },
      "source": [
        "<a href=\"https://colab.research.google.com/github/Lord3008/Quantum-Circuits/blob/main/QuantumCktsGraphColouring.ipynb\" target=\"_parent\"><img src=\"https://colab.research.google.com/assets/colab-badge.svg\" alt=\"Open In Colab\"/></a>"
      ]
    },
    {
      "cell_type": "code",
      "source": [
        "import numpy"
      ],
      "metadata": {
        "id": "I2bzeMO-KdwI"
      },
      "execution_count": null,
      "outputs": []
    },
    {
      "cell_type": "code",
      "source": [
        "!pip install qiskit"
      ],
      "metadata": {
        "colab": {
          "base_uri": "https://localhost:8080/"
        },
        "id": "lcRLGF03KfzF",
        "outputId": "b5e6d260-4c6a-404b-faa2-8ccb09b18a9d"
      },
      "execution_count": null,
      "outputs": [
        {
          "output_type": "stream",
          "name": "stdout",
          "text": [
            "Collecting qiskit\n",
            "  Downloading qiskit-1.1.0-cp38-abi3-manylinux_2_17_x86_64.manylinux2014_x86_64.whl (4.3 MB)\n",
            "\u001b[2K     \u001b[90m━━━━━━━━━━━━━━━━━━━━━━━━━━━━━━━━━━━━━━━━\u001b[0m \u001b[32m4.3/4.3 MB\u001b[0m \u001b[31m11.9 MB/s\u001b[0m eta \u001b[36m0:00:00\u001b[0m\n",
            "\u001b[?25hCollecting rustworkx>=0.14.0 (from qiskit)\n",
            "  Downloading rustworkx-0.14.2-cp310-cp310-manylinux_2_17_x86_64.manylinux2014_x86_64.whl (2.1 MB)\n",
            "\u001b[2K     \u001b[90m━━━━━━━━━━━━━━━━━━━━━━━━━━━━━━━━━━━━━━━━\u001b[0m \u001b[32m2.1/2.1 MB\u001b[0m \u001b[31m23.9 MB/s\u001b[0m eta \u001b[36m0:00:00\u001b[0m\n",
            "\u001b[?25hRequirement already satisfied: numpy<3,>=1.17 in /usr/local/lib/python3.10/dist-packages (from qiskit) (1.25.2)\n",
            "Requirement already satisfied: scipy>=1.5 in /usr/local/lib/python3.10/dist-packages (from qiskit) (1.11.4)\n",
            "Requirement already satisfied: sympy>=1.3 in /usr/local/lib/python3.10/dist-packages (from qiskit) (1.12)\n",
            "Collecting dill>=0.3 (from qiskit)\n",
            "  Downloading dill-0.3.8-py3-none-any.whl (116 kB)\n",
            "\u001b[2K     \u001b[90m━━━━━━━━━━━━━━━━━━━━━━━━━━━━━━━━━━━━━━━━\u001b[0m \u001b[32m116.3/116.3 kB\u001b[0m \u001b[31m15.4 MB/s\u001b[0m eta \u001b[36m0:00:00\u001b[0m\n",
            "\u001b[?25hRequirement already satisfied: python-dateutil>=2.8.0 in /usr/local/lib/python3.10/dist-packages (from qiskit) (2.8.2)\n",
            "Collecting stevedore>=3.0.0 (from qiskit)\n",
            "  Downloading stevedore-5.2.0-py3-none-any.whl (49 kB)\n",
            "\u001b[2K     \u001b[90m━━━━━━━━━━━━━━━━━━━━━━━━━━━━━━━━━━━━━━━━\u001b[0m \u001b[32m49.7/49.7 kB\u001b[0m \u001b[31m6.2 MB/s\u001b[0m eta \u001b[36m0:00:00\u001b[0m\n",
            "\u001b[?25hRequirement already satisfied: typing-extensions in /usr/local/lib/python3.10/dist-packages (from qiskit) (4.11.0)\n",
            "Collecting symengine>=0.11 (from qiskit)\n",
            "  Downloading symengine-0.11.0-cp310-cp310-manylinux_2_12_x86_64.manylinux2010_x86_64.whl (39.4 MB)\n",
            "\u001b[2K     \u001b[90m━━━━━━━━━━━━━━━━━━━━━━━━━━━━━━━━━━━━━━━━\u001b[0m \u001b[32m39.4/39.4 MB\u001b[0m \u001b[31m17.1 MB/s\u001b[0m eta \u001b[36m0:00:00\u001b[0m\n",
            "\u001b[?25hRequirement already satisfied: six>=1.5 in /usr/local/lib/python3.10/dist-packages (from python-dateutil>=2.8.0->qiskit) (1.16.0)\n",
            "Collecting pbr!=2.1.0,>=2.0.0 (from stevedore>=3.0.0->qiskit)\n",
            "  Downloading pbr-6.0.0-py2.py3-none-any.whl (107 kB)\n",
            "\u001b[2K     \u001b[90m━━━━━━━━━━━━━━━━━━━━━━━━━━━━━━━━━━━━━━━━\u001b[0m \u001b[32m107.5/107.5 kB\u001b[0m \u001b[31m14.3 MB/s\u001b[0m eta \u001b[36m0:00:00\u001b[0m\n",
            "\u001b[?25hRequirement already satisfied: mpmath>=0.19 in /usr/local/lib/python3.10/dist-packages (from sympy>=1.3->qiskit) (1.3.0)\n",
            "Installing collected packages: symengine, rustworkx, pbr, dill, stevedore, qiskit\n",
            "Successfully installed dill-0.3.8 pbr-6.0.0 qiskit-1.1.0 rustworkx-0.14.2 stevedore-5.2.0 symengine-0.11.0\n"
          ]
        }
      ]
    },
    {
      "cell_type": "code",
      "source": [
        "import qiskit\n",
        "print(qiskit.__version__)\n"
      ],
      "metadata": {
        "colab": {
          "base_uri": "https://localhost:8080/"
        },
        "id": "AZeWy4kfKjJk",
        "outputId": "584facf0-41b2-4a4b-d9f1-320a2f4fba8b"
      },
      "execution_count": null,
      "outputs": [
        {
          "output_type": "stream",
          "name": "stdout",
          "text": [
            "1.1.0\n"
          ]
        }
      ]
    },
    {
      "cell_type": "code",
      "source": [
        "!pip install pylatexenc"
      ],
      "metadata": {
        "colab": {
          "base_uri": "https://localhost:8080/"
        },
        "id": "GIpVo8jXQSip",
        "outputId": "8f7db8c1-decc-4cfc-805a-910d3331a6c9"
      },
      "execution_count": null,
      "outputs": [
        {
          "output_type": "stream",
          "name": "stdout",
          "text": [
            "Collecting pylatexenc\n",
            "  Downloading pylatexenc-2.10.tar.gz (162 kB)\n",
            "\u001b[2K     \u001b[90m━━━━━━━━━━━━━━━━━━━━━━━━━━━━━━━━━━━━━━━━\u001b[0m \u001b[32m162.6/162.6 kB\u001b[0m \u001b[31m4.0 MB/s\u001b[0m eta \u001b[36m0:00:00\u001b[0m\n",
            "\u001b[?25h  Preparing metadata (setup.py) ... \u001b[?25l\u001b[?25hdone\n",
            "Building wheels for collected packages: pylatexenc\n",
            "  Building wheel for pylatexenc (setup.py) ... \u001b[?25l\u001b[?25hdone\n",
            "  Created wheel for pylatexenc: filename=pylatexenc-2.10-py3-none-any.whl size=136816 sha256=9a1f36bdffa1fa93fcd0d50943a71155891c526daca6285c521c714c9ba23dd6\n",
            "  Stored in directory: /root/.cache/pip/wheels/d3/31/8b/e09b0386afd80cfc556c00408c9aeea5c35c4d484a9c762fd5\n",
            "Successfully built pylatexenc\n",
            "Installing collected packages: pylatexenc\n",
            "Successfully installed pylatexenc-2.10\n"
          ]
        }
      ]
    },
    {
      "cell_type": "code",
      "source": [
        "from qiskit import QuantumRegister, ClassicalRegister, QuantumCircuit\n",
        "from numpy import pi\n",
        "from qiskit.visualization import circuit_drawer\n",
        "import pylatexenc\n",
        "import matplotlib.pyplot as plt\n",
        "\n",
        "#from pylatexenc import MatplotlibDrawer\n",
        "qreg_q = QuantumRegister(9, 'q')\n",
        "#creg_c = ClassicalRegister(4, 'c')\n",
        "circuit = QuantumCircuit(qreg_q)\n",
        "\n",
        "circuit.ry(-pi/4, qreg_q[4])\n",
        "circuit.ry(-pi/4, qreg_q[2])\n",
        "circuit.ry(-pi/4, qreg_q[0])\n",
        "\n",
        "circuit.x(qreg_q[3])\n",
        "circuit.x(qreg_q[1])\n",
        "circuit.x(qreg_q[5])\n",
        "\n",
        "circuit.cz(qreg_q[0], qreg_q[1])\n",
        "circuit.cz(qreg_q[2], qreg_q[3])\n",
        "circuit.cz(qreg_q[4], qreg_q[5])\n",
        "circuit.ry(pi / 4, qreg_q[2])\n",
        "circuit.ry(pi / 4, qreg_q[4])\n",
        "circuit.ry(pi / 4, qreg_q[0])\n",
        "circuit.cx(qreg_q[0], qreg_q[1])\n",
        "circuit.cx(qreg_q[2], qreg_q[3])\n",
        "circuit.cx(qreg_q[4], qreg_q[5])\n",
        "\n",
        "plt.show()\n",
        "#circuit_drawer(circuit, output='mpl', fold=100, plot_barriers=False, justify='none')"
      ],
      "metadata": {
        "id": "cXM5xTPUKzGG"
      },
      "execution_count": null,
      "outputs": []
    },
    {
      "cell_type": "code",
      "source": [
        "print(circuit)"
      ],
      "metadata": {
        "colab": {
          "base_uri": "https://localhost:8080/"
        },
        "id": "pfLdn8fnK6N8",
        "outputId": "16a28e20-a1e7-4ce0-9ed7-8b91a864d70d"
      },
      "execution_count": null,
      "outputs": [
        {
          "output_type": "stream",
          "name": "stdout",
          "text": [
            "     ┌──────────┐   ┌─────────┐     \n",
            "q_0: ┤ Ry(-π/4) ├─■─┤ Ry(π/4) ├──■──\n",
            "     └──┬───┬───┘ │ └─────────┘┌─┴─┐\n",
            "q_1: ───┤ X ├─────■────────────┤ X ├\n",
            "     ┌──┴───┴───┐   ┌─────────┐└───┘\n",
            "q_2: ┤ Ry(-π/4) ├─■─┤ Ry(π/4) ├──■──\n",
            "     └──┬───┬───┘ │ └─────────┘┌─┴─┐\n",
            "q_3: ───┤ X ├─────■────────────┤ X ├\n",
            "     ┌──┴───┴───┐   ┌─────────┐└───┘\n",
            "q_4: ┤ Ry(-π/4) ├─■─┤ Ry(π/4) ├──■──\n",
            "     └──┬───┬───┘ │ └─────────┘┌─┴─┐\n",
            "q_5: ───┤ X ├─────■────────────┤ X ├\n",
            "        └───┘                  └───┘\n",
            "q_6: ───────────────────────────────\n",
            "                                    \n",
            "q_7: ───────────────────────────────\n",
            "                                    \n",
            "q_8: ───────────────────────────────\n",
            "                                    \n"
          ]
        }
      ]
    },
    {
      "cell_type": "code",
      "source": [
        "from qiskit import QuantumRegister, ClassicalRegister, QuantumCircuit\n",
        "from numpy import pi\n",
        "\n",
        "qreg_q = QuantumRegister(9, 'q')\n",
        "creg_c = ClassicalRegister(4, 'c')\n",
        "circuit = QuantumCircuit(qreg_q, creg_c)\n",
        "\n",
        "circuit.ry(-pi / 4, qreg_q[4])\n",
        "circuit.ry(-pi / 4, qreg_q[2])\n",
        "circuit.ry(-pi / 4, qreg_q[0])\n",
        "circuit.x(qreg_q[3])\n",
        "circuit.x(qreg_q[1])\n",
        "circuit.x(qreg_q[5])\n",
        "circuit.cz(qreg_q[0], qreg_q[1])\n",
        "circuit.cz(qreg_q[2], qreg_q[3])\n",
        "circuit.cz(qreg_q[4], qreg_q[5])\n",
        "circuit.ry(pi / 4, qreg_q[2])\n",
        "circuit.ry(pi / 4, qreg_q[4])\n",
        "circuit.ry(pi / 4, qreg_q[0])\n",
        "circuit.cx(qreg_q[0], qreg_q[1])\n",
        "circuit.cx(qreg_q[2], qreg_q[3])\n",
        "circuit.cx(qreg_q[4], qreg_q[5])\n",
        "circuit.ccx(qreg_q[0], qreg_q[2], qreg_q[6])\n",
        "circuit.ccx(qreg_q[1], qreg_q[3], qreg_q[6])\n",
        "circuit.ccx(qreg_q[2], qreg_q[4], qreg_q[7])\n",
        "circuit.ccx(qreg_q[3], qreg_q[5], qreg_q[7])\n",
        "circuit.x(qreg_q[7])\n",
        "circuit.x(qreg_q[6])\n",
        "circuit.ccx(qreg_q[6], qreg_q[7], qreg_q[8])"
      ],
      "metadata": {
        "colab": {
          "base_uri": "https://localhost:8080/"
        },
        "id": "tLrCOMglLCx-",
        "outputId": "25d9866a-c37e-427f-d21f-9855f4873040"
      },
      "execution_count": null,
      "outputs": [
        {
          "output_type": "execute_result",
          "data": {
            "text/plain": [
              "<qiskit.circuit.instructionset.InstructionSet at 0x7ead105bbf40>"
            ]
          },
          "metadata": {},
          "execution_count": 14
        }
      ]
    },
    {
      "cell_type": "code",
      "source": [
        "print(circuit)"
      ],
      "metadata": {
        "colab": {
          "base_uri": "https://localhost:8080/"
        },
        "id": "UzYETZRVL73C",
        "outputId": "f69d841e-087f-4909-c4c6-ff61c06171aa"
      },
      "execution_count": null,
      "outputs": [
        {
          "output_type": "stream",
          "name": "stdout",
          "text": [
            "     ┌──────────┐   ┌─────────┐                                   \n",
            "q_0: ┤ Ry(-π/4) ├─■─┤ Ry(π/4) ├──■────■───────────────────────────\n",
            "     └──┬───┬───┘ │ └─────────┘┌─┴─┐  │                           \n",
            "q_1: ───┤ X ├─────■────────────┤ X ├──┼────■──────────────────────\n",
            "     ┌──┴───┴───┐   ┌─────────┐└───┘  │    │                      \n",
            "q_2: ┤ Ry(-π/4) ├─■─┤ Ry(π/4) ├──■────■────┼────■─────────────────\n",
            "     └──┬───┬───┘ │ └─────────┘┌─┴─┐  │    │    │                 \n",
            "q_3: ───┤ X ├─────■────────────┤ X ├──┼────■────┼────■────────────\n",
            "     ┌──┴───┴───┐   ┌─────────┐└───┘  │    │    │    │            \n",
            "q_4: ┤ Ry(-π/4) ├─■─┤ Ry(π/4) ├──■────┼────┼────■────┼────────────\n",
            "     └──┬───┬───┘ │ └─────────┘┌─┴─┐  │    │    │    │            \n",
            "q_5: ───┤ X ├─────■────────────┤ X ├──┼────┼────┼────■────────────\n",
            "        └───┘                  └───┘┌─┴─┐┌─┴─┐  │    │  ┌───┐     \n",
            "q_6: ───────────────────────────────┤ X ├┤ X ├──┼────┼──┤ X ├──■──\n",
            "                                    └───┘└───┘┌─┴─┐┌─┴─┐├───┤  │  \n",
            "q_7: ─────────────────────────────────────────┤ X ├┤ X ├┤ X ├──■──\n",
            "                                              └───┘└───┘└───┘┌─┴─┐\n",
            "q_8: ────────────────────────────────────────────────────────┤ X ├\n",
            "                                                             └───┘\n",
            "c: 4/═════════════════════════════════════════════════════════════\n",
            "                                                                  \n"
          ]
        }
      ]
    },
    {
      "cell_type": "code",
      "source": [
        "\n"
      ],
      "metadata": {
        "id": "n0tL8KA_L_VM"
      },
      "execution_count": null,
      "outputs": []
    },
    {
      "cell_type": "code",
      "source": [
        "pip install pylatexenc\n"
      ],
      "metadata": {
        "colab": {
          "base_uri": "https://localhost:8080/"
        },
        "id": "-EYCeJYET88n",
        "outputId": "445c4766-57ed-4b32-e260-4f0e2c58874a"
      },
      "execution_count": null,
      "outputs": [
        {
          "output_type": "stream",
          "name": "stdout",
          "text": [
            "Requirement already satisfied: pylatexenc in /usr/local/lib/python3.10/dist-packages (2.10)\n"
          ]
        }
      ]
    },
    {
      "cell_type": "code",
      "source": [
        "from qiskit import QuantumRegister, ClassicalRegister, QuantumCircuit\n",
        "from numpy import pi\n",
        "\n",
        "qreg_q = QuantumRegister(9, 'q')\n",
        "creg_c = ClassicalRegister(4, 'c')\n",
        "circuit = QuantumCircuit(qreg_q, creg_c)\n",
        "\n",
        "circuit.ry(-pi / 4, qreg_q[4])\n",
        "circuit.ry(-pi / 4, qreg_q[2])\n",
        "circuit.ry(-pi / 4, qreg_q[0])\n",
        "circuit.x(qreg_q[3])\n",
        "circuit.x(qreg_q[1])\n",
        "circuit.x(qreg_q[5])\n",
        "circuit.cz(qreg_q[0], qreg_q[1])\n",
        "circuit.cz(qreg_q[2], qreg_q[3])\n",
        "circuit.cz(qreg_q[4], qreg_q[5])\n",
        "circuit.ry(pi / 4, qreg_q[2])\n",
        "circuit.ry(pi / 4, qreg_q[4])\n",
        "circuit.ry(pi / 4, qreg_q[0])\n",
        "circuit.cx(qreg_q[0], qreg_q[1])\n",
        "circuit.cx(qreg_q[2], qreg_q[3])\n",
        "circuit.cx(qreg_q[4], qreg_q[5])\n",
        "\n",
        "# Draw the circuit with custom settings\n",
        "print(circuit.draw(output='text', fold=200, plot_barriers=False, justify='none'))\n"
      ],
      "metadata": {
        "colab": {
          "base_uri": "https://localhost:8080/"
        },
        "id": "1B1aoJd8UFul",
        "outputId": "25018787-1b59-4a42-e879-e5c2dc30af4c"
      },
      "execution_count": null,
      "outputs": [
        {
          "output_type": "stream",
          "name": "stdout",
          "text": [
            "     ┌──────────┐        ┌─────────┐                                                                             \n",
            "q_0: ┤ Ry(-π/4) ├──────■─┤ Ry(π/4) ├──■──────────────────────────────────────────────────────────────────────────\n",
            "     └──────────┘┌───┐ │ └─────────┘┌─┴─┐                                                                        \n",
            "q_1: ────────────┤ X ├─■────────────┤ X ├────────────────────────────────────────────────────────────────────────\n",
            "                 └───┘              └───┘┌──────────┐        ┌─────────┐                                         \n",
            "q_2: ────────────────────────────────────┤ Ry(-π/4) ├──────■─┤ Ry(π/4) ├──■──────────────────────────────────────\n",
            "                                         └──────────┘┌───┐ │ └─────────┘┌─┴─┐                                    \n",
            "q_3: ────────────────────────────────────────────────┤ X ├─■────────────┤ X ├────────────────────────────────────\n",
            "                                                     └───┘              └───┘┌──────────┐        ┌─────────┐     \n",
            "q_4: ────────────────────────────────────────────────────────────────────────┤ Ry(-π/4) ├──────■─┤ Ry(π/4) ├──■──\n",
            "                                                                             └──────────┘┌───┐ │ └─────────┘┌─┴─┐\n",
            "q_5: ────────────────────────────────────────────────────────────────────────────────────┤ X ├─■────────────┤ X ├\n",
            "                                                                                         └───┘              └───┘\n",
            "q_6: ────────────────────────────────────────────────────────────────────────────────────────────────────────────\n",
            "                                                                                                                 \n",
            "q_7: ────────────────────────────────────────────────────────────────────────────────────────────────────────────\n",
            "                                                                                                                 \n",
            "q_8: ────────────────────────────────────────────────────────────────────────────────────────────────────────────\n",
            "                                                                                                                 \n",
            "c: 4/════════════════════════════════════════════════════════════════════════════════════════════════════════════\n",
            "                                                                                                                 \n"
          ]
        }
      ]
    },
    {
      "cell_type": "code",
      "source": [
        "from qiskit import QuantumRegister, ClassicalRegister, QuantumCircuit\n",
        "from numpy import pi\n",
        "\n",
        "# Define the quantum and classical registers\n",
        "qreg_q = QuantumRegister(9, 'q')\n",
        "creg_c = ClassicalRegister(4, 'c')\n",
        "circuit = QuantumCircuit(qreg_q, creg_c)\n",
        "\n",
        "# Apply gates to the quantum circuit\n",
        "circuit.ry(-pi / 4, qreg_q[4])\n",
        "circuit.ry(-pi / 4, qreg_q[2])\n",
        "circuit.ry(-pi / 4, qreg_q[0])\n",
        "\n",
        "# Insert empty lines to increase vertical gap between q0 and q1\n",
        "#circuit.barrier(qreg_q[0])\n",
        "#circuit.barrier(qreg_q[1])\n",
        "\n",
        "circuit.x(qreg_q[3])\n",
        "circuit.x(qreg_q[1])\n",
        "circuit.x(qreg_q[5])\n",
        "circuit.cz(qreg_q[0], qreg_q[1])\n",
        "circuit.cz(qreg_q[2], qreg_q[3])\n",
        "circuit.cz(qreg_q[4], qreg_q[5])\n",
        "circuit.ry(pi / 4, qreg_q[2])\n",
        "circuit.ry(pi / 4, qreg_q[4])\n",
        "circuit.ry(pi / 4, qreg_q[0])\n",
        "circuit.cx(qreg_q[0], qreg_q[1])\n",
        "circuit.cx(qreg_q[2], qreg_q[3])\n",
        "circuit.cx(qreg_q[4], qreg_q[5])\n",
        "\n",
        "# Draw the circuit\n",
        "circuit.draw(output='text', fold=100)\n"
      ],
      "metadata": {
        "colab": {
          "base_uri": "https://localhost:8080/",
          "height": 340
        },
        "id": "8qm9yFmPVJ1o",
        "outputId": "1ad4a751-8828-473d-f0ca-fe15256d130f"
      },
      "execution_count": null,
      "outputs": [
        {
          "output_type": "execute_result",
          "data": {
            "text/plain": [
              "     ┌──────────┐   ┌─────────┐     \n",
              "q_0: ┤ Ry(-π/4) ├─■─┤ Ry(π/4) ├──■──\n",
              "     └──┬───┬───┘ │ └─────────┘┌─┴─┐\n",
              "q_1: ───┤ X ├─────■────────────┤ X ├\n",
              "     ┌──┴───┴───┐   ┌─────────┐└───┘\n",
              "q_2: ┤ Ry(-π/4) ├─■─┤ Ry(π/4) ├──■──\n",
              "     └──┬───┬───┘ │ └─────────┘┌─┴─┐\n",
              "q_3: ───┤ X ├─────■────────────┤ X ├\n",
              "     ┌──┴───┴───┐   ┌─────────┐└───┘\n",
              "q_4: ┤ Ry(-π/4) ├─■─┤ Ry(π/4) ├──■──\n",
              "     └──┬───┬───┘ │ └─────────┘┌─┴─┐\n",
              "q_5: ───┤ X ├─────■────────────┤ X ├\n",
              "        └───┘                  └───┘\n",
              "q_6: ───────────────────────────────\n",
              "                                    \n",
              "q_7: ───────────────────────────────\n",
              "                                    \n",
              "q_8: ───────────────────────────────\n",
              "                                    \n",
              "c: 4/═══════════════════════════════\n",
              "                                    "
            ],
            "text/html": [
              "<pre style=\"word-wrap: normal;white-space: pre;background: #fff0;line-height: 1.1;font-family: &quot;Courier New&quot;,Courier,monospace\">     ┌──────────┐   ┌─────────┐     \n",
              "q_0: ┤ Ry(-π/4) ├─■─┤ Ry(π/4) ├──■──\n",
              "     └──┬───┬───┘ │ └─────────┘┌─┴─┐\n",
              "q_1: ───┤ X ├─────■────────────┤ X ├\n",
              "     ┌──┴───┴───┐   ┌─────────┐└───┘\n",
              "q_2: ┤ Ry(-π/4) ├─■─┤ Ry(π/4) ├──■──\n",
              "     └──┬───┬───┘ │ └─────────┘┌─┴─┐\n",
              "q_3: ───┤ X ├─────■────────────┤ X ├\n",
              "     ┌──┴───┴───┐   ┌─────────┐└───┘\n",
              "q_4: ┤ Ry(-π/4) ├─■─┤ Ry(π/4) ├──■──\n",
              "     └──┬───┬───┘ │ └─────────┘┌─┴─┐\n",
              "q_5: ───┤ X ├─────■────────────┤ X ├\n",
              "        └───┘                  └───┘\n",
              "q_6: ───────────────────────────────\n",
              "                                    \n",
              "q_7: ───────────────────────────────\n",
              "                                    \n",
              "q_8: ───────────────────────────────\n",
              "                                    \n",
              "c: 4/═══════════════════════════════\n",
              "                                    </pre>"
            ]
          },
          "metadata": {},
          "execution_count": 52
        }
      ]
    },
    {
      "cell_type": "code",
      "source": [],
      "metadata": {
        "id": "HKdu11qMVbTq"
      },
      "execution_count": null,
      "outputs": []
    }
  ]
}